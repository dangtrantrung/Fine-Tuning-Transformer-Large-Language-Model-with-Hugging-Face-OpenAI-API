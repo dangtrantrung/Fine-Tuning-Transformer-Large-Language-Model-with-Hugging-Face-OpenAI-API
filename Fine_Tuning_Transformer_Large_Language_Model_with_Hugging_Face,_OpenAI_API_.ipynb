{
  "nbformat": 4,
  "nbformat_minor": 0,
  "metadata": {
    "colab": {
      "provenance": [],
      "gpuType": "T4",
      "authorship_tag": "ABX9TyMWru51zV+tO0ZzlShHepuG",
      "include_colab_link": true
    },
    "kernelspec": {
      "name": "python3",
      "display_name": "Python 3"
    },
    "language_info": {
      "name": "python"
    },
    "accelerator": "GPU"
  },
  "cells": [
    {
      "cell_type": "markdown",
      "metadata": {
        "id": "view-in-github",
        "colab_type": "text"
      },
      "source": [
        "<a href=\"https://colab.research.google.com/github/dangtrantrung/Fine-Tuning-Transformer-Large-Language-Model-with-Hugging-Face-OpenAI-API/blob/master/Fine_Tuning_Transformer_Large_Language_Model_with_Hugging_Face%2C_OpenAI_API_.ipynb\" target=\"_parent\"><img src=\"https://colab.research.google.com/assets/colab-badge.svg\" alt=\"Open In Colab\"/></a>"
      ]
    },
    {
      "cell_type": "code",
      "execution_count": 9,
      "metadata": {
        "id": "GP5ZuM4zrrUE"
      },
      "outputs": [],
      "source": [
        "import locale\n",
        "locale.getpreferredencoding = lambda: \"UTF-8\""
      ]
    },
    {
      "cell_type": "code",
      "source": [
        "# install transformers, torch, accelerate\n",
        "!pip -q install transformers torch accelerate"
      ],
      "metadata": {
        "id": "XkFf-3mntFA5"
      },
      "execution_count": 10,
      "outputs": []
    },
    {
      "cell_type": "code",
      "source": [
        "# Load model transformer directly\n",
        "from transformers import AutoTokenizer, AutoModelForSeq2SeqLM, AutoConfig\n"
      ],
      "metadata": {
        "id": "VwXXJq7VtVqS"
      },
      "execution_count": 11,
      "outputs": []
    },
    {
      "cell_type": "code",
      "source": [
        "# Load Tokenizer from google/flan-t5-base\n",
        "tokenizer=AutoTokenizer.from_pretrained(\"google/flan-t5-base\")"
      ],
      "metadata": {
        "id": "iA8fY4qBu2sY"
      },
      "execution_count": 12,
      "outputs": []
    },
    {
      "cell_type": "code",
      "source": [
        "# Config Loaded Tokenizer Model\n",
        "config =AutoConfig.from_pretrained(\"google/flan-t5-base\",trust_remote_code=True) #,token=token)\n",
        "config.init_device=\"cuda\"\n",
        "config.temperature=0.1\n",
        "config.max_legth=300\n",
        "config.eos_token_id=tokenizer.eos_token_id\n",
        "config.pad_token_id=tokenizer.pad_token_id\n",
        "config.do_sample=True\n",
        "\n",
        "# Load Model\n",
        "model=AutoModelForSeq2SeqLM.from_pretrained(\"google/flan-t5-base\",device_map=\"cuda\",config=config)\n"
      ],
      "metadata": {
        "id": "PFvIHuCdvK7T"
      },
      "execution_count": 15,
      "outputs": []
    },
    {
      "cell_type": "code",
      "source": [
        "# test model\n",
        "input_text=\"Summarize this text: ChatGPT is a artificial intelligent (AI) chatbot that uses natural language processing to create humanlike conversation dialogue\"\n",
        "\n",
        "# Tokenizer that text\n",
        "input_ids=tokenizer(input_text,return_tensors=\"pt\").input_ids.to(\"cuda\")\n",
        "outputs=model.generate(input_ids)\n",
        "print(tokenizer.decode(outputs[0]))\n"
      ],
      "metadata": {
        "colab": {
          "base_uri": "https://localhost:8080/"
        },
        "id": "3-ICCvDHxWSK",
        "outputId": "144e1bf9-4a91-4943-bfa1-b8d2da3e9bbf"
      },
      "execution_count": 17,
      "outputs": [
        {
          "output_type": "stream",
          "name": "stderr",
          "text": [
            "/usr/local/lib/python3.10/dist-packages/transformers/generation/utils.py:1473: UserWarning: You have modified the pretrained model configuration to control generation. This is a deprecated strategy to control generation and will be removed soon, in a future version. Please use and modify the model generation configuration (see https://huggingface.co/docs/transformers/generation_strategies#default-text-generation-configuration )\n",
            "  warnings.warn(\n",
            "/usr/local/lib/python3.10/dist-packages/transformers/generation/utils.py:1273: UserWarning: Using the model-agnostic default `max_length` (=20) to control the generation length. We recommend setting `max_new_tokens` to control the maximum length of the generation.\n",
            "  warnings.warn(\n"
          ]
        },
        {
          "output_type": "stream",
          "name": "stdout",
          "text": [
            "<pad> ChatGPT is a chatbot that uses natural language processing to create human-like conversation\n"
          ]
        }
      ]
    }
  ]
}